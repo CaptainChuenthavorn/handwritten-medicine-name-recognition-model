{
 "cells": [
  {
   "cell_type": "markdown",
   "metadata": {},
   "source": []
  },
  {
   "attachments": {},
   "cell_type": "markdown",
   "metadata": {},
   "source": [
    "SKEW IMAGE "
   ]
  },
  {
   "cell_type": "code",
   "execution_count": 16,
   "metadata": {},
   "outputs": [],
   "source": [
    "import numpy as np\n",
    "from skimage import io\n",
    "from skimage.color import rgb2gray\n",
    "from skimage.transform import rotate\n",
    "\n",
    "from deskew import determine_skew\n",
    "#if it are 3 dimension\n",
    "image = io.imread('input\\S__4800515.jpg')[:,:,:3]\n",
    "grayscale = rgb2gray(image)\n",
    "angle = determine_skew(grayscale)\n",
    "rotated = rotate(image, angle, resize=True) * 255\n",
    "io.imsave('output_rotate.png', rotated.astype(np.uint8))\n",
    "#if it are 2 dimension\n",
    "image = io.imread('input\\\\a02-000-00-00.png',as_gray = True)\n",
    "angle = determine_skew(image)\n",
    "rotated = rotate(image, angle, resize=True) * 255\n",
    "io.imsave('output_rotate2.png', rotated.astype(np.uint8))"
   ]
  },
  {
   "cell_type": "markdown",
   "metadata": {},
   "source": []
  },
  {
   "cell_type": "code",
   "execution_count": null,
   "metadata": {},
   "outputs": [],
   "source": []
  }
 ],
 "metadata": {
  "kernelspec": {
   "display_name": "Python 3",
   "language": "python",
   "name": "python3"
  },
  "language_info": {
   "codemirror_mode": {
    "name": "ipython",
    "version": 3
   },
   "file_extension": ".py",
   "mimetype": "text/x-python",
   "name": "python",
   "nbconvert_exporter": "python",
   "pygments_lexer": "ipython3",
   "version": "3.9.13"
  },
  "orig_nbformat": 4
 },
 "nbformat": 4,
 "nbformat_minor": 2
}
