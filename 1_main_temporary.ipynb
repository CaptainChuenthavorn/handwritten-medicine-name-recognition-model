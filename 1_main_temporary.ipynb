{
 "cells": [
  {
   "cell_type": "code",
   "execution_count": 84,
   "id": "b648382d",
   "metadata": {},
   "outputs": [],
   "source": [
    "import tensorflow as tf\n",
    "from tensorflow import keras\n",
    "from tensorflow import keras\n",
    "from tensorflow.keras.models import Sequential\n",
    "from tensorflow.keras.layers import Activation, Dense, Flatten,BatchNormalization,Conv2D,MaxPool2D\n",
    "from tensorflow.keras.optimizers import Adam\n",
    "from tensorflow.keras.metrics import categorical_crossentropy\n",
    "from tensorflow.keras.preprocessing.image import ImageDataGenerator\n",
    "from sklearn.metrics import confusion_matrix\n",
    " \n",
    "import numpy as np\n",
    "import itertools\n",
    "import os\n",
    "import shutil\n",
    "import random\n",
    "import glob\n",
    "import matplotlib.pyplot as plt\n",
    "import warnings\n",
    "warnings.simplefilter(action='ignore',category=FutureWarning)\n",
    "%matplotlib inline"
   ]
  },
  {
   "cell_type": "code",
   "execution_count": 8,
   "id": "5dfc161f",
   "metadata": {},
   "outputs": [
    {
     "name": "stdout",
     "output_type": "stream",
     "text": [
      "Num GPUs Available:  0\n"
     ]
    }
   ],
   "source": [
    "physical_devices = tf.config.experimental.list_physical_devices(\"GPU\")\n",
    "print(\"Num GPUs Available: \",len(physical_devices))\n",
    "#tf.config.experimental.set_memory_growth(physical_devices[0],True)"
   ]
  },
  {
   "cell_type": "markdown",
   "id": "1f785239",
   "metadata": {},
   "source": [
    "# Data preparation"
   ]
  },
  {
   "cell_type": "markdown",
   "id": "bc71a3d0",
   "metadata": {},
   "source": [
    "image have amikacin and cefazolin 100 images in each type"
   ]
  },
  {
   "cell_type": "code",
   "execution_count": null,
   "id": "50fa90c8",
   "metadata": {},
   "outputs": [],
   "source": [
    "(\"C:\\Users\\captain\\0-Handwritten CNN\\binarized_image\\amikacin\\amikacin_1.png)"
   ]
  },
  {
   "cell_type": "code",
   "execution_count": 10,
   "id": "f1492a2a",
   "metadata": {},
   "outputs": [],
   "source": [
    "#Organize data into train , valid , teset dirs\n",
    "os.chdir('data/amikacin-cefazolin')\n",
    "if os.path.isdir('train/amikacin') is False:\n",
    "    os.makedirs('train/amikacin')\n",
    "    os.makedirs('train/cefazolin')\n",
    "    os.makedirs('valid/amikacin')\n",
    "    os.makedirs('valid/cefazolin')\n",
    "    os.makedirs('test/amikacin')\n",
    "    os.makedirs('test/cefazolin')\n",
    "    \n",
    "    for c in random.sample(glob.glob(\"amikacin*\"),80):\n",
    "        shutil.move(c,'train/amikacin')\n",
    "    for c in random.sample(glob.glob(\"cefazolin*\"),80):\n",
    "        shutil.move(c,'train/cefazolin')\n",
    "    #for c in random.sample(glob.glob(\"amikacin*\"),10):\n",
    "    #    shutil.move(c,'valid/amikacin')\n",
    "    #for c in random.sample(glob.glob(\"cefazolin*\"),10):\n",
    "    #    shutil.move(c,'valid/cefazolin')\n",
    "    for c in random.sample(glob.glob(\"amikacin*\"),20):\n",
    "        shutil.move(c,'test/amikacin')\n",
    "    for c in random.sample(glob.glob(\"cefazolin*\"),20):\n",
    "        shutil.move(c,'test/cefazolin')\n",
    "os.chdir(\"../../\")"
   ]
  },
  {
   "cell_type": "code",
   "execution_count": 73,
   "id": "c013a139",
   "metadata": {},
   "outputs": [
    {
     "name": "stdout",
     "output_type": "stream",
     "text": [
      "Found 160 images belonging to 2 classes.\n",
      "Found 0 images belonging to 2 classes.\n",
      "Found 40 images belonging to 2 classes.\n"
     ]
    }
   ],
   "source": [
    "train_path = 'data/amikacin-cefazolin/train'\n",
    "valid_path = 'data/amikacin-cefazolin/valid'\n",
    "test_path = 'data/amikacin-cefazolin/test'\n",
    "                                            \n",
    "train_batches = ImageDataGenerator(preprocessing_function=tf.keras.applications.vgg16.preprocess_input) \\\n",
    "\t.flow_from_directory(directory=train_path,target_size=(224,224),classes=['amikacin','cefazolin'],batch_size=10)\n",
    "valid_batches = ImageDataGenerator(preprocessing_function=tf.keras.applications.vgg16.preprocess_input) \\\n",
    "\t.flow_from_directory(directory=valid_path,target_size=(224,224),classes=['amikacin','cefazolin'],batch_size=10)\n",
    "test_batches = ImageDataGenerator(preprocessing_function=tf.keras.applications.vgg16.preprocess_input) \\\n",
    "\t.flow_from_directory(directory=test_path,target_size=(224,224),classes=['amikacin','cefazolin'],batch_size=10,shuffle=False)"
   ]
  },
  {
   "cell_type": "code",
   "execution_count": 75,
   "id": "390646ce",
   "metadata": {},
   "outputs": [],
   "source": [
    "#Verified data\n",
    "assert train_batches.n == 160\n",
    "#assert valid_batches.n == \n",
    "assert test_batches.n == 40\n"
   ]
  },
  {
   "cell_type": "code",
   "execution_count": null,
   "id": "157ee11e",
   "metadata": {},
   "outputs": [],
   "source": []
  },
  {
   "cell_type": "code",
   "execution_count": 76,
   "id": "64a72792",
   "metadata": {},
   "outputs": [],
   "source": [
    "imgs, labels = next(train_batches)"
   ]
  },
  {
   "cell_type": "code",
   "execution_count": 77,
   "id": "f12c960c",
   "metadata": {},
   "outputs": [],
   "source": [
    "# This function will plot images in the form of a grid with 1 row and 10 columns where images are place\n",
    "def plotImages (images_arr):\n",
    "    fig, axes = plt.subplots(1,10, figsize= (15,15))\n",
    "    axes = axes.flatten()\n",
    "    for img, ax in zip( images_arr, axes):\n",
    "        ax.imshow(img)\n",
    "        ax.axis('off')\n",
    "    plt.tight_layout()\n",
    "    plt.show()\n"
   ]
  },
  {
   "cell_type": "code",
   "execution_count": 78,
   "id": "c8f5db70",
   "metadata": {},
   "outputs": [
    {
     "name": "stdout",
     "output_type": "stream",
     "text": [
      "10\n"
     ]
    }
   ],
   "source": [
    "print(len(imgs))"
   ]
  },
  {
   "cell_type": "code",
   "execution_count": 79,
   "id": "628dded4",
   "metadata": {},
   "outputs": [
    {
     "name": "stderr",
     "output_type": "stream",
     "text": [
      "Clipping input data to the valid range for imshow with RGB data ([0..1] for floats or [0..255] for integers).\n",
      "Clipping input data to the valid range for imshow with RGB data ([0..1] for floats or [0..255] for integers).\n",
      "Clipping input data to the valid range for imshow with RGB data ([0..1] for floats or [0..255] for integers).\n",
      "Clipping input data to the valid range for imshow with RGB data ([0..1] for floats or [0..255] for integers).\n",
      "Clipping input data to the valid range for imshow with RGB data ([0..1] for floats or [0..255] for integers).\n",
      "Clipping input data to the valid range for imshow with RGB data ([0..1] for floats or [0..255] for integers).\n",
      "Clipping input data to the valid range for imshow with RGB data ([0..1] for floats or [0..255] for integers).\n",
      "Clipping input data to the valid range for imshow with RGB data ([0..1] for floats or [0..255] for integers).\n",
      "Clipping input data to the valid range for imshow with RGB data ([0..1] for floats or [0..255] for integers).\n",
      "Clipping input data to the valid range for imshow with RGB data ([0..1] for floats or [0..255] for integers).\n"
     ]
    },
    {
     "data": {
      "image/png": "[encoded data removed]",
      "text/plain": [
       "<Figure size 1500x1500 with 10 Axes>"
      ]
     },
     "metadata": {},
     "output_type": "display_data"
    },
    {
     "name": "stdout",
     "output_type": "stream",
     "text": [
      "[[0. 1.]\n",
      " [1. 0.]\n",
      " [0. 1.]\n",
      " [0. 1.]\n",
      " [0. 1.]\n",
      " [0. 1.]\n",
      " [1. 0.]\n",
      " [0. 1.]\n",
      " [0. 1.]\n",
      " [0. 1.]]\n"
     ]
    }
   ],
   "source": [
    "plotImages(imgs)\n",
    "print(labels)"
   ]
  },
  {
   "cell_type": "code",
   "execution_count": 31,
   "id": "a582e20f",
   "metadata": {},
   "outputs": [],
   "source": [
    "#in model.fit step per epoch = training sample/batches size\n",
    "#e.g. 100/5 = 20 = step per epoch\n",
    "#if pass validation data. we need to pass validation_steps\n"
   ]
  },
  {
   "cell_type": "markdown",
   "id": "ef9e4b30",
   "metadata": {},
   "source": [
    "# Build and train CNN "
   ]
  },
  {
   "cell_type": "code",
   "execution_count": 41,
   "id": "b063a4b1",
   "metadata": {},
   "outputs": [],
   "source": [
    "model = Sequential([\n",
    "    Conv2D(filters=32, kernel_size=(3, 3), activation= 'relu', padding = 'same', input_shape= (224,224,3)),\n",
    "    MaxPool2D(pool_size=(2, 2), strides=2),\n",
    "    Conv2D(filters=64, kernel_size=(3, 3), activation= 'relu', padding = 'same'),\n",
    "    MaxPool2D(pool_size=(2, 2), strides=2),\n",
    "    Flatten(),\n",
    "    #units = output node (num_class)\n",
    "    Dense(units=2, activation='softmax'),\n",
    "    \n",
    "])"
   ]
  },
  {
   "cell_type": "code",
   "execution_count": 42,
   "id": "40303fcf",
   "metadata": {},
   "outputs": [
    {
     "name": "stdout",
     "output_type": "stream",
     "text": [
      "Model: \"sequential_1\"\n",
      "_________________________________________________________________\n",
      " Layer (type)                Output Shape              Param #   \n",
      "=================================================================\n",
      " conv2d_5 (Conv2D)           (None, 224, 224, 32)      896       \n",
      "                                                                 \n",
      " max_pooling2d_4 (MaxPooling  (None, 112, 112, 32)     0         \n",
      " 2D)                                                             \n",
      "                                                                 \n",
      " conv2d_6 (Conv2D)           (None, 112, 112, 64)      18496     \n",
      "                                                                 \n",
      " max_pooling2d_5 (MaxPooling  (None, 56, 56, 64)       0         \n",
      " 2D)                                                             \n",
      "                                                                 \n",
      " flatten_2 (Flatten)         (None, 200704)            0         \n",
      "                                                                 \n",
      " dense_1 (Dense)             (None, 2)                 401410    \n",
      "                                                                 \n",
      "=================================================================\n",
      "Total params: 420,802\n",
      "Trainable params: 420,802\n",
      "Non-trainable params: 0\n",
      "_________________________________________________________________\n"
     ]
    }
   ],
   "source": [
    "model.summary()"
   ]
  },
  {
   "cell_type": "code",
   "execution_count": 43,
   "id": "86384c9a",
   "metadata": {},
   "outputs": [],
   "source": [
    "model.compile(optimizer=Adam(learning_rate=0.0001),loss=\"categorical_crossentropy\",metrics=['accuracy'])"
   ]
  },
  {
   "cell_type": "code",
   "execution_count": 45,
   "id": "2fbced86",
   "metadata": {},
   "outputs": [
    {
     "name": "stdout",
     "output_type": "stream",
     "text": [
      "Epoch 1/10\n",
      "16/16 - 3s - loss: 195.4919 - accuracy: 0.5437 - 3s/epoch - 217ms/step\n",
      "Epoch 2/10\n",
      "16/16 - 3s - loss: 64.3906 - accuracy: 0.5562 - 3s/epoch - 167ms/step\n",
      "Epoch 3/10\n",
      "16/16 - 3s - loss: 15.4509 - accuracy: 0.7500 - 3s/epoch - 168ms/step\n",
      "Epoch 4/10\n",
      "16/16 - 3s - loss: 10.0384 - accuracy: 0.8125 - 3s/epoch - 168ms/step\n",
      "Epoch 5/10\n",
      "16/16 - 3s - loss: 4.2136 - accuracy: 0.9000 - 3s/epoch - 173ms/step\n",
      "Epoch 6/10\n",
      "16/16 - 3s - loss: 1.6913 - accuracy: 0.9750 - 3s/epoch - 170ms/step\n",
      "Epoch 7/10\n",
      "16/16 - 3s - loss: 0.1653 - accuracy: 0.9875 - 3s/epoch - 165ms/step\n",
      "Epoch 8/10\n",
      "16/16 - 3s - loss: 0.4244 - accuracy: 0.9750 - 3s/epoch - 167ms/step\n",
      "Epoch 9/10\n",
      "16/16 - 3s - loss: 0.3009 - accuracy: 0.9812 - 3s/epoch - 174ms/step\n",
      "Epoch 10/10\n",
      "16/16 - 3s - loss: 0.0111 - accuracy: 0.9937 - 3s/epoch - 169ms/step\n"
     ]
    },
    {
     "data": {
      "text/plain": [
       "<keras.callbacks.History at 0x1aaaafe0070>"
      ]
     },
     "execution_count": 45,
     "metadata": {},
     "output_type": "execute_result"
    }
   ],
   "source": [
    "model.fit(x=train_batches,validation_data=valid_batches,epochs=10,verbose=2)"
   ]
  },
  {
   "cell_type": "markdown",
   "id": "1d4b8692",
   "metadata": {},
   "source": [
    "## Vggnet model section"
   ]
  },
  {
   "cell_type": "code",
   "execution_count": 123,
   "id": "4d0b8bf9",
   "metadata": {},
   "outputs": [],
   "source": [
    "from tensorflow.keras.layers import Input, MaxPooling2D\n",
    "from tensorflow.keras.models import Model"
   ]
  },
  {
   "cell_type": "code",
   "execution_count": 133,
   "id": "cf045c6b",
   "metadata": {},
   "outputs": [],
   "source": [
    "_input = Input((224,224,3))\n",
    "\n",
    "conv1  = Conv2D(filters=64, kernel_size=(3,3), padding=\"same\", activation=\"relu\")(_input)\n",
    "conv2  = Conv2D(filters=64, kernel_size=(3,3), padding=\"same\", activation=\"relu\")(conv1)\n",
    "pool1  = MaxPooling2D((2, 2))(conv2)\n",
    "\n",
    "conv3  = Conv2D(filters=128, kernel_size=(3,3), padding=\"same\", activation=\"relu\")(pool1)\n",
    "conv4  = Conv2D(filters=128, kernel_size=(3,3), padding=\"same\", activation=\"relu\")(conv3)\n",
    "pool2  = MaxPooling2D((2, 2))(conv4)\n",
    "\n",
    "conv5  = Conv2D(filters=256, kernel_size=(3,3), padding=\"same\", activation=\"relu\")(pool2)\n",
    "conv6  = Conv2D(filters=256, kernel_size=(3,3), padding=\"same\", activation=\"relu\")(conv5)\n",
    "conv7  = Conv2D(filters=256, kernel_size=(3,3), padding=\"same\", activation=\"relu\")(conv6)\n",
    "pool3  = MaxPooling2D((2, 2))(conv7)\n",
    "\n",
    "conv8  = Conv2D(filters=512, kernel_size=(3,3), padding=\"same\", activation=\"relu\")(pool3)\n",
    "conv9  = Conv2D(filters=512, kernel_size=(3,3), padding=\"same\", activation=\"relu\")(conv8)\n",
    "conv10 = Conv2D(filters=512, kernel_size=(3,3), padding=\"same\", activation=\"relu\")(conv9)\n",
    "pool4  = MaxPooling2D((2, 2))(conv10)\n",
    "\n",
    "conv11 = Conv2D(filters=512, kernel_size=(3,3), padding=\"same\", activation=\"relu\")(pool4)\n",
    "conv12 = Conv2D(filters=512, kernel_size=(3,3), padding=\"same\", activation=\"relu\")(conv11)\n",
    "conv13 = Conv2D(filters=512, kernel_size=(3,3), padding=\"same\", activation=\"relu\")(conv12)\n",
    "pool5  = MaxPooling2D((2, 2))(conv13)\n",
    "\n",
    "flat   = Flatten()(pool5)\n",
    "dense1 = Dense(4096, activation=\"relu\")(flat)\n",
    "dense2 = Dense(4096, activation=\"relu\")(dense1)\n",
    "output = Dense(2, activation=\"softmax\")(dense2)\n",
    "\n",
    "vgg16_model  = Model(inputs=_input, outputs=output)"
   ]
  },
  {
   "cell_type": "code",
   "execution_count": 135,
   "id": "231554c2",
   "metadata": {},
   "outputs": [
    {
     "name": "stdout",
     "output_type": "stream",
     "text": [
      "Model: \"model_2\"\n",
      "_________________________________________________________________\n",
      " Layer (type)                Output Shape              Param #   \n",
      "=================================================================\n",
      " input_4 (InputLayer)        [(None, 224, 224, 3)]     0         \n",
      "                                                                 \n",
      " conv2d_36 (Conv2D)          (None, 224, 224, 64)      1792      \n",
      "                                                                 \n",
      " conv2d_37 (Conv2D)          (None, 224, 224, 64)      36928     \n",
      "                                                                 \n",
      " max_pooling2d_16 (MaxPoolin  (None, 112, 112, 64)     0         \n",
      " g2D)                                                            \n",
      "                                                                 \n",
      " conv2d_38 (Conv2D)          (None, 112, 112, 128)     73856     \n",
      "                                                                 \n",
      " conv2d_39 (Conv2D)          (None, 112, 112, 128)     147584    \n",
      "                                                                 \n",
      " max_pooling2d_17 (MaxPoolin  (None, 56, 56, 128)      0         \n",
      " g2D)                                                            \n",
      "                                                                 \n",
      " conv2d_40 (Conv2D)          (None, 56, 56, 256)       295168    \n",
      "                                                                 \n",
      " conv2d_41 (Conv2D)          (None, 56, 56, 256)       590080    \n",
      "                                                                 \n",
      " conv2d_42 (Conv2D)          (None, 56, 56, 256)       590080    \n",
      "                                                                 \n",
      " max_pooling2d_18 (MaxPoolin  (None, 28, 28, 256)      0         \n",
      " g2D)                                                            \n",
      "                                                                 \n",
      " conv2d_43 (Conv2D)          (None, 28, 28, 512)       1180160   \n",
      "                                                                 \n",
      " conv2d_44 (Conv2D)          (None, 28, 28, 512)       2359808   \n",
      "                                                                 \n",
      " conv2d_45 (Conv2D)          (None, 28, 28, 512)       2359808   \n",
      "                                                                 \n",
      " max_pooling2d_19 (MaxPoolin  (None, 14, 14, 512)      0         \n",
      " g2D)                                                            \n",
      "                                                                 \n",
      " conv2d_46 (Conv2D)          (None, 14, 14, 512)       2359808   \n",
      "                                                                 \n",
      " conv2d_47 (Conv2D)          (None, 14, 14, 512)       2359808   \n",
      "                                                                 \n",
      " conv2d_48 (Conv2D)          (None, 14, 14, 512)       2359808   \n",
      "                                                                 \n",
      " max_pooling2d_20 (MaxPoolin  (None, 7, 7, 512)        0         \n",
      " g2D)                                                            \n",
      "                                                                 \n",
      " flatten_5 (Flatten)         (None, 25088)             0         \n",
      "                                                                 \n",
      " dense_8 (Dense)             (None, 4096)              102764544 \n",
      "                                                                 \n",
      " dense_9 (Dense)             (None, 4096)              16781312  \n",
      "                                                                 \n",
      " dense_10 (Dense)            (None, 2)                 8194      \n",
      "                                                                 \n",
      "=================================================================\n",
      "Total params: 134,268,738\n",
      "Trainable params: 134,268,738\n",
      "Non-trainable params: 0\n",
      "_________________________________________________________________\n"
     ]
    }
   ],
   "source": [
    "vgg16_model.summary()"
   ]
  },
  {
   "cell_type": "code",
   "execution_count": 136,
   "id": "7275769f",
   "metadata": {},
   "outputs": [],
   "source": [
    "vgg16_model.compile(optimizer=Adam(learning_rate=0.0001),loss=\"categorical_crossentropy\",metrics=['accuracy'])"
   ]
  },
  {
   "cell_type": "code",
   "execution_count": 137,
   "id": "15d6fb69",
   "metadata": {},
   "outputs": [
    {
     "name": "stdout",
     "output_type": "stream",
     "text": [
      "Epoch 1/10\n",
      "16/16 - 73s - loss: 1.1239 - accuracy: 0.5375 - 73s/epoch - 5s/step\n",
      "Epoch 2/10\n",
      "16/16 - 70s - loss: 0.6056 - accuracy: 0.6687 - 70s/epoch - 4s/step\n",
      "Epoch 3/10\n",
      "16/16 - 69s - loss: 0.2991 - accuracy: 0.8500 - 69s/epoch - 4s/step\n",
      "Epoch 4/10\n",
      "16/16 - 64s - loss: 0.1948 - accuracy: 0.9375 - 64s/epoch - 4s/step\n",
      "Epoch 5/10\n",
      "16/16 - 65s - loss: 0.2052 - accuracy: 0.9563 - 65s/epoch - 4s/step\n",
      "Epoch 6/10\n",
      "16/16 - 63s - loss: 0.1185 - accuracy: 0.9500 - 63s/epoch - 4s/step\n",
      "Epoch 7/10\n",
      "16/16 - 67s - loss: 0.0106 - accuracy: 1.0000 - 67s/epoch - 4s/step\n",
      "Epoch 8/10\n",
      "16/16 - 67s - loss: 0.0452 - accuracy: 0.9812 - 67s/epoch - 4s/step\n",
      "Epoch 9/10\n",
      "16/16 - 73s - loss: 0.0464 - accuracy: 0.9875 - 73s/epoch - 5s/step\n",
      "Epoch 10/10\n",
      "16/16 - 68s - loss: 0.0852 - accuracy: 0.9750 - 68s/epoch - 4s/step\n"
     ]
    },
    {
     "data": {
      "text/plain": [
       "<keras.callbacks.History at 0x1aab09bfaf0>"
      ]
     },
     "execution_count": 137,
     "metadata": {},
     "output_type": "execute_result"
    }
   ],
   "source": [
    "vgg16_model.fit(x=train_batches,validation_data=valid_batches,epochs=10,verbose=2)"
   ]
  },
  {
   "cell_type": "code",
   "execution_count": 155,
   "id": "2d3bb578",
   "metadata": {},
   "outputs": [],
   "source": [
    "# save the trained model\n",
    "vgg16_model.save('vgg16.h5')"
   ]
  },
  {
   "cell_type": "code",
   "execution_count": 160,
   "id": "626e61d6",
   "metadata": {},
   "outputs": [
    {
     "name": "stdout",
     "output_type": "stream",
     "text": [
      "16/16 [==============================] - 11s 674ms/step - loss: 0.0061 - accuracy: 1.0000\n",
      "Test loss: 0.006078267004340887\n",
      "Test accuracy: 1.0\n"
     ]
    }
   ],
   "source": [
    "# Evaluate the model on the test set\n",
    "test_loss, test_acc = vgg16_model.evaluate(train_batches)\n",
    "print(f'Test loss: {test_loss}')\n",
    "print(f'Test accuracy: {test_acc}')"
   ]
  },
  {
   "cell_type": "code",
   "execution_count": 161,
   "id": "527e9404",
   "metadata": {},
   "outputs": [
    {
     "name": "stdout",
     "output_type": "stream",
     "text": [
      "4/4 [==============================] - 3s 743ms/step - loss: 0.1868 - accuracy: 0.9250\n",
      "Test loss: 0.18684805929660797\n",
      "Test accuracy: 0.925000011920929\n"
     ]
    }
   ],
   "source": [
    "# Evaluate the model on the test set\n",
    "# Evaluate the model on the test set\n",
    "test_loss, test_acc = vgg16_model.evaluate(test_batches)\n",
    "print(f'Test loss: {test_loss}')\n",
    "print(f'Test accuracy: {test_acc}')\n"
   ]
  },
  {
   "cell_type": "markdown",
   "id": "6442e249",
   "metadata": {},
   "source": [
    "# Predict"
   ]
  },
  {
   "cell_type": "code",
   "execution_count": 139,
   "id": "b578bb26",
   "metadata": {},
   "outputs": [
    {
     "name": "stderr",
     "output_type": "stream",
     "text": [
      "Clipping input data to the valid range for imshow with RGB data ([0..1] for floats or [0..255] for integers).\n",
      "Clipping input data to the valid range for imshow with RGB data ([0..1] for floats or [0..255] for integers).\n",
      "Clipping input data to the valid range for imshow with RGB data ([0..1] for floats or [0..255] for integers).\n",
      "Clipping input data to the valid range for imshow with RGB data ([0..1] for floats or [0..255] for integers).\n",
      "Clipping input data to the valid range for imshow with RGB data ([0..1] for floats or [0..255] for integers).\n",
      "Clipping input data to the valid range for imshow with RGB data ([0..1] for floats or [0..255] for integers).\n",
      "Clipping input data to the valid range for imshow with RGB data ([0..1] for floats or [0..255] for integers).\n",
      "Clipping input data to the valid range for imshow with RGB data ([0..1] for floats or [0..255] for integers).\n",
      "Clipping input data to the valid range for imshow with RGB data ([0..1] for floats or [0..255] for integers).\n",
      "Clipping input data to the valid range for imshow with RGB data ([0..1] for floats or [0..255] for integers).\n"
     ]
    },
    {
     "data": {
      "image/png": "[encoded data removed]",
      "text/plain": [
       "<Figure size 1500x1500 with 10 Axes>"
      ]
     },
     "metadata": {},
     "output_type": "display_data"
    },
    {
     "name": "stdout",
     "output_type": "stream",
     "text": [
      "[[1. 0.]\n",
      " [1. 0.]\n",
      " [1. 0.]\n",
      " [1. 0.]\n",
      " [1. 0.]\n",
      " [1. 0.]\n",
      " [1. 0.]\n",
      " [1. 0.]\n",
      " [1. 0.]\n",
      " [1. 0.]]\n"
     ]
    }
   ],
   "source": [
    "test_imgs,test_labels=next(test_batches)\n",
    "plotImages(test_imgs)\n",
    "print(test_labels)"
   ]
  },
  {
   "cell_type": "code",
   "execution_count": 140,
   "id": "8c33ad47",
   "metadata": {},
   "outputs": [
    {
     "data": {
      "text/plain": [
       "array([0, 0, 0, 0, 0, 0, 0, 0, 0, 0, 0, 0, 0, 0, 0, 0, 0, 0, 0, 0, 1, 1,\n",
       "       1, 1, 1, 1, 1, 1, 1, 1, 1, 1, 1, 1, 1, 1, 1, 1, 1, 1])"
      ]
     },
     "execution_count": 140,
     "metadata": {},
     "output_type": "execute_result"
    }
   ],
   "source": [
    "test_batches.classes"
   ]
  },
  {
   "cell_type": "code",
   "execution_count": 148,
   "id": "4acdb866",
   "metadata": {},
   "outputs": [],
   "source": [
    "predictions = vgg16_model.predict(x=test_batches,verbose=0)"
   ]
  },
  {
   "cell_type": "code",
   "execution_count": 149,
   "id": "cc0adbb8",
   "metadata": {
    "scrolled": true
   },
   "outputs": [
    {
     "data": {
      "text/plain": [
       "array([[1., 0.],\n",
       "       [1., 0.],\n",
       "       [1., 0.],\n",
       "       [1., 0.],\n",
       "       [1., 0.],\n",
       "       [1., 0.],\n",
       "       [1., 0.],\n",
       "       [1., 0.],\n",
       "       [1., 0.],\n",
       "       [1., 0.],\n",
       "       [1., 0.],\n",
       "       [1., 0.],\n",
       "       [1., 0.],\n",
       "       [1., 0.],\n",
       "       [1., 0.],\n",
       "       [1., 0.],\n",
       "       [1., 0.],\n",
       "       [1., 0.],\n",
       "       [1., 0.],\n",
       "       [1., 0.],\n",
       "       [0., 1.],\n",
       "       [0., 1.],\n",
       "       [0., 1.],\n",
       "       [0., 1.],\n",
       "       [0., 1.],\n",
       "       [0., 1.],\n",
       "       [0., 1.],\n",
       "       [1., 0.],\n",
       "       [0., 1.],\n",
       "       [0., 1.],\n",
       "       [0., 1.],\n",
       "       [0., 1.],\n",
       "       [1., 0.],\n",
       "       [0., 1.],\n",
       "       [0., 1.],\n",
       "       [0., 1.],\n",
       "       [0., 1.],\n",
       "       [0., 1.],\n",
       "       [0., 1.],\n",
       "       [1., 0.]], dtype=float32)"
      ]
     },
     "execution_count": 149,
     "metadata": {},
     "output_type": "execute_result"
    }
   ],
   "source": [
    "np.round(predictions)"
   ]
  },
  {
   "cell_type": "code",
   "execution_count": 150,
   "id": "6decc009",
   "metadata": {
    "scrolled": true
   },
   "outputs": [
    {
     "data": {
      "text/plain": [
       "array([[9.99999881e-01, 1.31813593e-07],\n",
       "       [9.99977112e-01, 2.28943627e-05],\n",
       "       [9.99700308e-01, 2.99748644e-04],\n",
       "       [9.99994278e-01, 5.71316878e-06],\n",
       "       [9.99999762e-01, 2.32147585e-07],\n",
       "       [9.99990702e-01, 9.31100840e-06],\n",
       "       [9.99998808e-01, 1.16894182e-06],\n",
       "       [9.99999642e-01, 3.66546033e-07],\n",
       "       [9.99996901e-01, 3.04406012e-06],\n",
       "       [9.99998212e-01, 1.77966047e-06],\n",
       "       [1.00000000e+00, 1.47324167e-10],\n",
       "       [9.98292744e-01, 1.70720823e-03],\n",
       "       [9.99996066e-01, 3.98405518e-06],\n",
       "       [9.99832630e-01, 1.67389662e-04],\n",
       "       [9.98538494e-01, 1.46155455e-03],\n",
       "       [9.99999285e-01, 6.61889487e-07],\n",
       "       [1.00000000e+00, 2.13222826e-08],\n",
       "       [1.00000000e+00, 2.98483127e-09],\n",
       "       [9.99999762e-01, 2.94733752e-07],\n",
       "       [1.00000000e+00, 7.71661068e-11],\n",
       "       [3.37557867e-02, 9.66244280e-01],\n",
       "       [1.49924442e-01, 8.50075603e-01],\n",
       "       [2.90931494e-04, 9.99709070e-01],\n",
       "       [3.07251757e-04, 9.99692798e-01],\n",
       "       [2.86517879e-05, 9.99971390e-01],\n",
       "       [6.88303635e-02, 9.31169569e-01],\n",
       "       [3.19393555e-04, 9.99680638e-01],\n",
       "       [6.57746613e-01, 3.42253417e-01],\n",
       "       [1.29377842e-01, 8.70622158e-01],\n",
       "       [3.17013138e-10, 1.00000000e+00],\n",
       "       [6.36694813e-06, 9.99993682e-01],\n",
       "       [5.89711168e-13, 1.00000000e+00],\n",
       "       [9.87233520e-01, 1.27664935e-02],\n",
       "       [2.20448571e-09, 1.00000000e+00],\n",
       "       [1.45381279e-07, 9.99999881e-01],\n",
       "       [1.24524347e-04, 9.99875426e-01],\n",
       "       [1.58762108e-04, 9.99841213e-01],\n",
       "       [1.52958361e-02, 9.84704137e-01],\n",
       "       [1.76970698e-05, 9.99982357e-01],\n",
       "       [8.00870836e-01, 1.99129105e-01]], dtype=float32)"
      ]
     },
     "execution_count": 150,
     "metadata": {},
     "output_type": "execute_result"
    }
   ],
   "source": [
    "#This is full probality of prediction confident\n",
    "predictions"
   ]
  },
  {
   "cell_type": "code",
   "execution_count": 151,
   "id": "c8f69013",
   "metadata": {},
   "outputs": [],
   "source": [
    "cm = confusion_matrix(y_true = test_batches.classes,y_pred=np.argmax(predictions,axis=-1))"
   ]
  },
  {
   "cell_type": "code",
   "execution_count": 152,
   "id": "ec2c7838",
   "metadata": {},
   "outputs": [],
   "source": [
    "def plot_confusion_matrix(cm,classes,\n",
    "                         normalize=False,\n",
    "                         title='Confusion matrix',\n",
    "                         cmap=plt.cm.Blues):\n",
    "    \"\"\"\n",
    "    This function prints and plots the confusion matrix.\n",
    "    Normalization can be applied by setting \"normalize=True`.\n",
    "    \"\"\"\n",
    "    plt.imshow(cm, interpolation= 'nearest',cmap=\"Blues\")\n",
    "    plt.title(title)\n",
    "    plt.colorbar()\n",
    "    tick_marks = np.arange(len(classes))\n",
    "    plt.xticks(tick_marks, classes, rotation=45)\n",
    "    plt.yticks(tick_marks, classes)\n",
    "    if normalize:\n",
    "        cm = cm.astype('float')/ cm.sum(axis=1)[:, np.newaxis]\n",
    "        print(\"Normalized confusion matrix\")\n",
    "    else:\n",
    "        print('Confusion matrix, without normalization')\n",
    "    print(cm)\n",
    "    thresh = cm.max() / 2.\n",
    "    for i, j in itertools.product(range(cm.shape[0]),range(cm.shape[1])):\n",
    "        plt.text(j,i,cm[i,j],\n",
    "                horizontalalignment=\"center\",\n",
    "                color=\"white\" if cm[i,j] > thresh else \"black\")\n",
    "        plt.tight_layout()\n",
    "        plt.ylabel(\"True label\")\n",
    "        plt.xlabel(\"Predicted label\")"
   ]
  },
  {
   "cell_type": "code",
   "execution_count": 153,
   "id": "caafe753",
   "metadata": {},
   "outputs": [
    {
     "data": {
      "text/plain": [
       "{'amikacin': 0, 'cefazolin': 1}"
      ]
     },
     "execution_count": 153,
     "metadata": {},
     "output_type": "execute_result"
    }
   ],
   "source": [
    "test_batches.class_indices"
   ]
  },
  {
   "cell_type": "code",
   "execution_count": 154,
   "id": "aaf0cfcc",
   "metadata": {
    "scrolled": false
   },
   "outputs": [
    {
     "name": "stdout",
     "output_type": "stream",
     "text": [
      "Confusion matrix, without normalization\n",
      "[[20  0]\n",
      " [ 3 17]]\n"
     ]
    },
    {
     "data": {
      "image/png": "[encoded data removed]",
      "text/plain": [
       "<Figure size 640x480 with 2 Axes>"
      ]
     },
     "metadata": {},
     "output_type": "display_data"
    }
   ],
   "source": [
    "# labels instead classes argument\n",
    "cm_plot_labels = ['amikacin','cefazolin']\n",
    "plot_confusion_matrix(cm=cm,classes=cm_plot_labels,title=\"Confusion Matrix\")"
   ]
  },
  {
   "cell_type": "code",
   "execution_count": null,
   "id": "e5fab638",
   "metadata": {},
   "outputs": [],
   "source": []
  }
 ],
 "metadata": {
  "kernelspec": {
   "display_name": "Python 3 (ipykernel)",
   "language": "python",
   "name": "python3"
  },
  "language_info": {
   "codemirror_mode": {
    "name": "ipython",
    "version": 3
   },
   "file_extension": ".py",
   "mimetype": "text/x-python",
   "name": "python",
   "nbconvert_exporter": "python",
   "pygments_lexer": "ipython3",
   "version": "3.10.10"
  }
 },
 "nbformat": 4,
 "nbformat_minor": 5
}
